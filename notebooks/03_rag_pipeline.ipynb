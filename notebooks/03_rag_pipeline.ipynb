{
 "cells": [
  {
   "cell_type": "code",
   "execution_count": 1,
   "id": "0a95544a",
   "metadata": {},
   "outputs": [],
   "source": [
    "import os\n",
    "import sys\n",
    "sys.path.append(os.path.abspath(os.path.join('..')))"
   ]
  },
  {
   "cell_type": "code",
   "execution_count": 2,
   "id": "508377d0",
   "metadata": {},
   "outputs": [],
   "source": [
    "from langchain_huggingface import HuggingFaceEmbeddings\n",
    "from langchain_ollama import OllamaLLM\n",
    "from langchain.retrievers.document_compressors import CrossEncoderReranker\n",
    "from langchain.retrievers import ContextualCompressionRetriever\n",
    "from src.rag_components import create_rag_chain \n",
    "from src.vector_store import build_vector_store \n",
    "from src.data_processing import process_pdf_to_chunks\n",
    "from langchain_community.cross_encoders import HuggingFaceCrossEncoder\n",
    "from pprint import pprint"
   ]
  },
  {
   "cell_type": "code",
   "execution_count": 3,
   "id": "25fb7f40",
   "metadata": {},
   "outputs": [],
   "source": [
    "DATA_PATH = \"/home/enzo/Desktop/riza/data/raw\"\n",
    "MANUAL_COMPLETO = os.path.join(DATA_PATH, \"galaxy_z_flip_7.pdf\")\n",
    "MANUAL_TESTE = os.path.join(DATA_PATH, \"galaxy_z_flip_7_teste.pdf\")"
   ]
  },
  {
   "cell_type": "code",
   "execution_count": 18,
   "id": "7e305853",
   "metadata": {},
   "outputs": [],
   "source": [
    "persist_directory = \"./chroma_db_test1\""
   ]
  },
  {
   "cell_type": "code",
   "execution_count": 5,
   "id": "26f7a704",
   "metadata": {},
   "outputs": [
    {
     "name": "stderr",
     "output_type": "stream",
     "text": [
      "2025-09-30 08:33:33,489 - INFO - detected formats: [<InputFormat.PDF: 'pdf'>]\n",
      "2025-09-30 08:33:33,523 - INFO - Going to convert document batch...\n",
      "2025-09-30 08:33:33,524 - INFO - Initializing pipeline for StandardPdfPipeline with options hash e647edf348883bed75367b22fbe60347\n",
      "2025-09-30 08:33:33,538 - INFO - Loading plugin 'docling_defaults'\n",
      "2025-09-30 08:33:33,541 - INFO - Registered picture descriptions: ['vlm', 'api']\n",
      "2025-09-30 08:33:33,552 - INFO - Loading plugin 'docling_defaults'\n",
      "2025-09-30 08:33:33,556 - INFO - Registered ocr engines: ['easyocr', 'ocrmac', 'rapidocr', 'tesserocr', 'tesseract']\n",
      "2025-09-30 08:33:33,677 - INFO - Accelerator device: 'cpu'\n"
     ]
    },
    {
     "name": "stdout",
     "output_type": "stream",
     "text": [
      "Iniciando conversão do arquivo: /home/enzo/Desktop/riza/data/raw/galaxy_z_flip_7_teste.pdf\n"
     ]
    },
    {
     "name": "stderr",
     "output_type": "stream",
     "text": [
      "2025-09-30 08:33:35,626 - INFO - Accelerator device: 'cpu'\n",
      "2025-09-30 08:33:38,408 - INFO - Accelerator device: 'cpu'\n",
      "2025-09-30 08:33:38,896 - INFO - Processing document galaxy_z_flip_7_teste.pdf\n",
      "/home/enzo/Desktop/riza/venv/lib/python3.12/site-packages/torch/utils/data/dataloader.py:666: UserWarning: 'pin_memory' argument is set as true but no accelerator is found, then device pinned memory won't be used.\n",
      "  warnings.warn(warn_msg)\n",
      "/home/enzo/Desktop/riza/venv/lib/python3.12/site-packages/torch/utils/data/dataloader.py:666: UserWarning: 'pin_memory' argument is set as true but no accelerator is found, then device pinned memory won't be used.\n",
      "  warnings.warn(warn_msg)\n",
      "2025-09-30 08:34:39,444 - INFO - Finished converting document galaxy_z_flip_7_teste.pdf in 65.96 sec.\n"
     ]
    },
    {
     "name": "stdout",
     "output_type": "stream",
     "text": [
      "Conversão para Markdown concluída.\n",
      "Iniciando o processo de chunking híbrido...\n",
      "Chunking concluído. 106 chunks intermediários gerados.\n",
      "Iniciando limpeza e filtragem dos chunks...\n",
      "Limpeza concluída. 87 chunks finais restantes.\n"
     ]
    }
   ],
   "source": [
    "final_chunks = process_pdf_to_chunks(MANUAL_TESTE)"
   ]
  },
  {
   "cell_type": "code",
   "execution_count": 6,
   "id": "744b7861",
   "metadata": {},
   "outputs": [
    {
     "name": "stderr",
     "output_type": "stream",
     "text": [
      "2025-09-30 08:34:39,701 - INFO - Load pretrained SentenceTransformer: all-MiniLM-L6-v2\n"
     ]
    }
   ],
   "source": [
    "embedding_model = HuggingFaceEmbeddings(\n",
    "    model_name=\"all-MiniLM-L6-v2\",\n",
    "    model_kwargs={'device': 'cpu'},\n",
    ")"
   ]
  },
  {
   "cell_type": "code",
   "execution_count": 19,
   "id": "bba8df22",
   "metadata": {},
   "outputs": [
    {
     "name": "stderr",
     "output_type": "stream",
     "text": [
      "2025-09-30 08:41:56,894 - INFO - Anonymized telemetry enabled. See                     https://docs.trychroma.com/telemetry for more information.\n"
     ]
    },
    {
     "name": "stdout",
     "output_type": "stream",
     "text": [
      "Criando Vector Store com 87 chunks em './chroma_db_test1'...\n",
      "Vector Store criado com sucesso.\n"
     ]
    }
   ],
   "source": [
    "db = build_vector_store(\n",
    "    embedding_model=embedding_model,\n",
    "    persist_directory=persist_directory,\n",
    "    chunks=final_chunks\n",
    ")"
   ]
  },
  {
   "cell_type": "code",
   "execution_count": 33,
   "id": "1ba0f595",
   "metadata": {},
   "outputs": [],
   "source": [
    "llm = OllamaLLM(model=\"phi3:mini\", temperature=0)"
   ]
  },
  {
   "cell_type": "code",
   "execution_count": 34,
   "id": "4d0576b8",
   "metadata": {},
   "outputs": [
    {
     "name": "stderr",
     "output_type": "stream",
     "text": [
      "2025-09-30 08:45:37,893 - INFO - Use pytorch device: cpu\n"
     ]
    }
   ],
   "source": [
    "base_retriever = db.as_retriever(search_kwargs={\"k\": 10})\n",
    "reranker_model = HuggingFaceCrossEncoder(model_name=\"cross-encoder/ms-marco-MiniLM-L-6-v2\")\n",
    "compressor = CrossEncoderReranker(model=reranker_model, top_n=4)"
   ]
  },
  {
   "cell_type": "code",
   "execution_count": 35,
   "id": "8c0e13e2",
   "metadata": {},
   "outputs": [],
   "source": [
    "compression_retriever = ContextualCompressionRetriever(\n",
    "    base_compressor=compressor, \n",
    "    base_retriever=base_retriever\n",
    ")"
   ]
  },
  {
   "cell_type": "code",
   "execution_count": 36,
   "id": "ba725829",
   "metadata": {},
   "outputs": [],
   "source": [
    "qa_chain = create_rag_chain(\n",
    "                            llm=llm, \n",
    "                            retriever=compression_retriever\n",
    "                            )"
   ]
  },
  {
   "cell_type": "code",
   "execution_count": 37,
   "id": "4a4e0ce8",
   "metadata": {},
   "outputs": [
    {
     "data": {
      "application/vnd.jupyter.widget-view+json": {
       "model_id": "5c09dae2e24a486f8d00b8c492a30792",
       "version_major": 2,
       "version_minor": 0
      },
      "text/plain": [
       "Batches:   0%|          | 0/1 [00:00<?, ?it/s]"
      ]
     },
     "metadata": {},
     "output_type": "display_data"
    },
    {
     "name": "stderr",
     "output_type": "stream",
     "text": [
      "2025-09-30 08:46:02,347 - INFO - HTTP Request: POST http://127.0.0.1:11434/api/generate \"HTTP/1.1 200 OK\"\n"
     ]
    }
   ],
   "source": [
    "query = \"how can i charge the phone?\"\n",
    "result = qa_chain.invoke({\"query\": query})"
   ]
  },
  {
   "cell_type": "code",
   "execution_count": 38,
   "id": "ca26bc93",
   "metadata": {},
   "outputs": [
    {
     "name": "stdout",
     "output_type": "stream",
     "text": [
      "{'query': 'how can i charge the phone?',\n",
      " 'result': 'To charge your phone using a wireless charger (sold separately), '\n",
      "           'follow these steps:\\n'\n",
      "           '\\n'\n",
      "           '1. Fold your phone to prepare it for charging with another device '\n",
      "           'on top of it, ensuring their backs are facing each other. The '\n",
      "           'folded position helps maintain the connection between both devices '\n",
      "           'and allows efficient power transfer from one to the other. \\n'\n",
      "           '\\n'\n",
      "           \"2. Place the second device's back onto the center of a wireless \"\n",
      "           'charger pad or mat that supports fast charging (if available). '\n",
      "           'Make sure it is properly aligned with any guiding markers on the '\n",
      "           'surface, which will help maintain its position during charging and '\n",
      "           'prevent sliding due to magnetic forces from your phone’s magnets.\\n'\n",
      "           '\\n'\n",
      "           '3. Once both devices are connected correctly, you should see a '\n",
      "           'notification indicating that wireless power sharing has started or '\n",
      "           'an LED indicator light up (if available). The device placed on the '\n",
      "           'charger pad will begin drawing power wirelessly through its '\n",
      "           'built-in charging coil and start to charge faster than it would '\n",
      "           \"with just your phone's battery.\\n\"\n",
      "           '\\n'\n",
      "           '4. After both devices have been charged, disconnect them from each '\n",
      "           'other by removing one of the phones or turning off wireless '\n",
      "           'sharing in settings (if applicable). Disconnect the second device '\n",
      "           'first if you wish to continue charging only using a wall outlet '\n",
      "           'and its charger cable for your phone later on. \\n'\n",
      "           '\\n'\n",
      "           '5. Remember not to use headphones while power-sharing, as this may '\n",
      "           'interfere with nearby devices or affect their connection quality '\n",
      "           'during wireless charging. Also, ensure that the USB cable is '\n",
      "           'connected properly between both phones if you wish to continue '\n",
      "           'using them simultaneously after they have been charged separately '\n",
      "           'through a wall outlet and its charger cable for your phone later '\n",
      "           'on.\\n'\n",
      "           '\\n'\n",
      "           'Note: If fast-charging does not work or there are issues with '\n",
      "           'power sharing, check settings like \"Charging Settings\" in the '\n",
      "           \"device's battery section of Open Settings to ensure that all \"\n",
      "           'necessary features related to wireless charging (like Wireless '\n",
      "           'Power Sharing) and Fast Charging modes are enabled. Also, make '\n",
      "           'sure your USB cable is properly connected between both devices if '\n",
      "           'you wish to continue using them simultaneously after they have '\n",
      "           'been charged separately through a wall outlet and its charger '\n",
      "           'cable for your phone later on.',\n",
      " 'source_documents': [Document(metadata={'Header 2': 'Wireless power sharing'}, page_content=\"[Wireless power sharing] You can charge another device with your phone's battery. You can still charge another device even while charging your phone. Depending on the type of accessories or cover being used, the Wireless power sharing feature may not work properly. It is recommended to remove any accessories and cover being used before using this feature. - 1 Open Settings , tap Battery → Wireless power sharing , and then tap the switch to turn it on. - 2 Fold your phone. - 3 Place the other device on your phone, with their backs facing.\"),\n",
      "                      Document(metadata={'Header 2': 'Wireless charging'}, page_content=\"The device has a built-in wireless charging coil. You can charge the battery using a wireless charger (sold separately). Fold the device before charging the battery. Place the device's back on the centre of the wireless charger to charge the battery. After fully charging, disconnect the device from the wireless charger.\"),\n",
      "                      Document(metadata={'Header 2': 'Quick charging'}, page_content='Use a super fast charger or fast charger. To use the fast wireless charging feature, use a charger and components that support the feature. You can check the connection status of the charger by opening Settings and tapping Battery . <!-- image --> - If fast charging does not work, open Settings , tap Battery → Charging settings , and then check if the feature you want is turned on. Also, check if the USB cable and the USB power adapter are connected properly. - You can charge the battery more quickly while the device or its screen is turned off.'),\n",
      "                      Document(metadata={'Header 2': 'Getting started'}, page_content='- 4 When you are finished charging, disconnect the other device from your phone. - Do not use headphones while sharing power. Doing so may affect nearby devices. - Your phone includes magnets. The location of the wireless charging coil may differ depending on the device. Adjust the position of the devices correctly to ensure that their connection is good. Otherwise, the device may slide because of its slope or the magnetic force. - Some features are not available while sharing power.')]}\n"
     ]
    }
   ],
   "source": [
    "pprint(result)"
   ]
  },
  {
   "cell_type": "code",
   "execution_count": null,
   "id": "fd66cc66",
   "metadata": {},
   "outputs": [],
   "source": []
  },
  {
   "cell_type": "code",
   "execution_count": null,
   "id": "11b60a1b",
   "metadata": {},
   "outputs": [],
   "source": []
  },
  {
   "cell_type": "code",
   "execution_count": null,
   "id": "a2d41aeb",
   "metadata": {},
   "outputs": [],
   "source": []
  },
  {
   "cell_type": "code",
   "execution_count": null,
   "id": "162b4c5f",
   "metadata": {},
   "outputs": [],
   "source": []
  }
 ],
 "metadata": {
  "kernelspec": {
   "display_name": "venv",
   "language": "python",
   "name": "python3"
  },
  "language_info": {
   "codemirror_mode": {
    "name": "ipython",
    "version": 3
   },
   "file_extension": ".py",
   "mimetype": "text/x-python",
   "name": "python",
   "nbconvert_exporter": "python",
   "pygments_lexer": "ipython3",
   "version": "3.12.3"
  }
 },
 "nbformat": 4,
 "nbformat_minor": 5
}
