{
 "cells": [
  {
   "cell_type": "code",
   "execution_count": 2,
   "id": "0a95544a",
   "metadata": {},
   "outputs": [],
   "source": [
    "import os\n",
    "import sys\n",
    "sys.path.append(os.path.abspath(os.path.join('..')))"
   ]
  },
  {
   "cell_type": "code",
   "execution_count": 9,
   "id": "508377d0",
   "metadata": {},
   "outputs": [],
   "source": [
    "from langchain_huggingface import HuggingFaceEmbeddings\n",
    "from langchain_ollama import OllamaLLM\n",
    "from src.rag_components import create_rag_chain \n",
    "from src.vector_store import build_vector_store \n",
    "from src.data_processing import process_pdf_to_chunks\n",
    "from pprint import pprint"
   ]
  },
  {
   "cell_type": "code",
   "execution_count": 7,
   "id": "25fb7f40",
   "metadata": {},
   "outputs": [],
   "source": [
    "DATA_PATH = \"/home/enzo/Desktop/riza/data/raw\"\n",
    "MANUAL_COMPLETO = os.path.join(DATA_PATH, \"galaxy_z_flip_7.pdf\")\n",
    "MANUAL_TESTE = os.path.join(DATA_PATH, \"galaxy_z_flip_7_teste.pdf\")"
   ]
  },
  {
   "cell_type": "code",
   "execution_count": 8,
   "id": "7e305853",
   "metadata": {},
   "outputs": [],
   "source": [
    "persist_directory = \"./chroma_db_test\""
   ]
  },
  {
   "cell_type": "code",
   "execution_count": 14,
   "id": "26f7a704",
   "metadata": {},
   "outputs": [
    {
     "name": "stderr",
     "output_type": "stream",
     "text": [
      "2025-09-29 22:58:15,723 - INFO - detected formats: [<InputFormat.PDF: 'pdf'>]\n",
      "2025-09-29 22:58:15,726 - INFO - Going to convert document batch...\n",
      "2025-09-29 22:58:15,726 - INFO - Initializing pipeline for StandardPdfPipeline with options hash e647edf348883bed75367b22fbe60347\n",
      "2025-09-29 22:58:15,727 - INFO - Accelerator device: 'cpu'\n"
     ]
    },
    {
     "name": "stdout",
     "output_type": "stream",
     "text": [
      "Iniciando conversão do arquivo: /home/enzo/Desktop/riza/data/raw/galaxy_z_flip_7_teste.pdf\n"
     ]
    },
    {
     "name": "stderr",
     "output_type": "stream",
     "text": [
      "2025-09-29 22:58:17,481 - INFO - Accelerator device: 'cpu'\n",
      "2025-09-29 22:58:18,281 - INFO - Accelerator device: 'cpu'\n",
      "2025-09-29 22:58:18,581 - INFO - Processing document galaxy_z_flip_7_teste.pdf\n",
      "/home/enzo/Desktop/riza/venv/lib/python3.12/site-packages/torch/utils/data/dataloader.py:666: UserWarning: 'pin_memory' argument is set as true but no accelerator is found, then device pinned memory won't be used.\n",
      "  warnings.warn(warn_msg)\n",
      "/home/enzo/Desktop/riza/venv/lib/python3.12/site-packages/torch/utils/data/dataloader.py:666: UserWarning: 'pin_memory' argument is set as true but no accelerator is found, then device pinned memory won't be used.\n",
      "  warnings.warn(warn_msg)\n",
      "2025-09-29 22:59:20,431 - INFO - Finished converting document galaxy_z_flip_7_teste.pdf in 64.71 sec.\n"
     ]
    },
    {
     "name": "stdout",
     "output_type": "stream",
     "text": [
      "Conversão para Markdown concluída.\n",
      "Iniciando o processo de chunking híbrido...\n",
      "Chunking concluído. 106 chunks intermediários gerados.\n",
      "Iniciando limpeza e filtragem dos chunks...\n",
      "Limpeza concluída. 87 chunks finais restantes.\n"
     ]
    }
   ],
   "source": [
    "final_chunks = process_pdf_to_chunks(MANUAL_TESTE)"
   ]
  },
  {
   "cell_type": "code",
   "execution_count": 15,
   "id": "744b7861",
   "metadata": {},
   "outputs": [
    {
     "name": "stderr",
     "output_type": "stream",
     "text": [
      "2025-09-29 22:59:20,498 - INFO - Load pretrained SentenceTransformer: all-MiniLM-L6-v2\n"
     ]
    }
   ],
   "source": [
    "embedding_model = HuggingFaceEmbeddings(\n",
    "    model_name=\"all-MiniLM-L6-v2\",\n",
    "    model_kwargs={'device': 'cpu'},\n",
    ")\n"
   ]
  },
  {
   "cell_type": "code",
   "execution_count": 17,
   "id": "bba8df22",
   "metadata": {},
   "outputs": [
    {
     "name": "stdout",
     "output_type": "stream",
     "text": [
      "Criando Vector Store com 87 chunks em './chroma_db_test'...\n"
     ]
    },
    {
     "name": "stderr",
     "output_type": "stream",
     "text": [
      "2025-09-29 23:00:31,779 - INFO - Anonymized telemetry enabled. See                     https://docs.trychroma.com/telemetry for more information.\n"
     ]
    },
    {
     "name": "stdout",
     "output_type": "stream",
     "text": [
      "Vector Store criado com sucesso.\n"
     ]
    }
   ],
   "source": [
    "db = build_vector_store(\n",
    "    embedding_model=embedding_model,\n",
    "    persist_directory=persist_directory,\n",
    "    chunks=final_chunks\n",
    ")"
   ]
  },
  {
   "cell_type": "code",
   "execution_count": 18,
   "id": "1ba0f595",
   "metadata": {},
   "outputs": [],
   "source": [
    "llm = OllamaLLM(model=\"gemma:2b\")"
   ]
  },
  {
   "cell_type": "code",
   "execution_count": 19,
   "id": "a411e4df",
   "metadata": {},
   "outputs": [],
   "source": [
    "retriever = db.as_retriever(search_kwargs={\"k\": 3})"
   ]
  },
  {
   "cell_type": "code",
   "execution_count": 20,
   "id": "b2fa246e",
   "metadata": {},
   "outputs": [],
   "source": [
    "qa_chain = create_rag_chain(\n",
    "                            llm=llm, \n",
    "                            retriever=retriever\n",
    "                            )"
   ]
  },
  {
   "cell_type": "code",
   "execution_count": 21,
   "id": "4a4e0ce8",
   "metadata": {},
   "outputs": [
    {
     "name": "stderr",
     "output_type": "stream",
     "text": [
      "2025-09-29 23:00:53,596 - INFO - HTTP Request: POST http://127.0.0.1:11434/api/generate \"HTTP/1.1 200 OK\"\n"
     ]
    }
   ],
   "source": [
    "query = \"how can i charge the phone?\"\n",
    "result = qa_chain.invoke({\"query\": query})"
   ]
  },
  {
   "cell_type": "code",
   "execution_count": 22,
   "id": "ca26bc93",
   "metadata": {},
   "outputs": [
    {
     "name": "stdout",
     "output_type": "stream",
     "text": [
      "{'query': 'how can i charge the phone?',\n",
      " 'result': 'The device can be charged using a wired charging cable or a '\n",
      "           'wireless charger.\\n'\n",
      "           '\\n'\n",
      "           'If using a wired charging cable, connect the USB cable to the USB '\n",
      "           \"power adapter and plug the cable into the device's multipurpose \"\n",
      "           'jack to charge the battery.\\n'\n",
      "           '\\n'\n",
      "           'If using a wireless charger, follow these steps:\\n'\n",
      "           '\\n'\n",
      "           '1. Fold the device before charging the battery.\\n'\n",
      "           \"2. Place the device's back on the center of the wireless charger \"\n",
      "           'to charge the battery.\\n'\n",
      "           '3. After fully charging, disconnect the device from the wireless '\n",
      "           'charger.',\n",
      " 'source_documents': [Document(metadata={'Header 2': 'Wired charging'}, page_content=\"[Wired charging] Connect the USB cable to the USB power adapter and plug the cable into the device's multipurpose jack to charge the battery. After fully charging, disconnect the charger from the device. <!-- image -->\"),\n",
      "                      Document(metadata={'Header 2': 'Wireless charging'}, page_content=\"The device has a built-in wireless charging coil. You can charge the battery using a wireless charger (sold separately). Fold the device before charging the battery. Place the device's back on the centre of the wireless charger to charge the battery. After fully charging, disconnect the device from the wireless charger.\"),\n",
      "                      Document(metadata={'Header 2': 'Quick charging'}, page_content='Use a super fast charger or fast charger. To use the fast wireless charging feature, use a charger and components that support the feature. You can check the connection status of the charger by opening Settings and tapping Battery . <!-- image --> - If fast charging does not work, open Settings , tap Battery → Charging settings , and then check if the feature you want is turned on. Also, check if the USB cable and the USB power adapter are connected properly. - You can charge the battery more quickly while the device or its screen is turned off.')]}\n"
     ]
    }
   ],
   "source": [
    "pprint(result)"
   ]
  },
  {
   "cell_type": "code",
   "execution_count": null,
   "id": "fd66cc66",
   "metadata": {},
   "outputs": [],
   "source": []
  },
  {
   "cell_type": "code",
   "execution_count": null,
   "id": "11b60a1b",
   "metadata": {},
   "outputs": [],
   "source": []
  },
  {
   "cell_type": "code",
   "execution_count": null,
   "id": "a2d41aeb",
   "metadata": {},
   "outputs": [],
   "source": []
  },
  {
   "cell_type": "code",
   "execution_count": null,
   "id": "162b4c5f",
   "metadata": {},
   "outputs": [],
   "source": []
  }
 ],
 "metadata": {
  "kernelspec": {
   "display_name": "venv",
   "language": "python",
   "name": "python3"
  },
  "language_info": {
   "codemirror_mode": {
    "name": "ipython",
    "version": 3
   },
   "file_extension": ".py",
   "mimetype": "text/x-python",
   "name": "python",
   "nbconvert_exporter": "python",
   "pygments_lexer": "ipython3",
   "version": "3.12.3"
  }
 },
 "nbformat": 4,
 "nbformat_minor": 5
}
