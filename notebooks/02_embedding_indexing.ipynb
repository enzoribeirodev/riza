{
 "cells": [
  {
   "cell_type": "code",
   "execution_count": 1,
   "id": "addabe60",
   "metadata": {},
   "outputs": [],
   "source": [
    "import os\n",
    "import sys\n",
    "sys.path.append(os.path.abspath(os.path.join('..')))"
   ]
  },
  {
   "cell_type": "code",
   "execution_count": 2,
   "id": "0a1b51e9",
   "metadata": {},
   "outputs": [],
   "source": [
    "from langchain_huggingface import HuggingFaceEmbeddings\n",
    "from langchain_community.vectorstores import Chroma\n",
    "from langchain.chains import RetrievalQA\n",
    "from langchain_ollama import OllamaLLM\n",
    "from pprint import pprint\n",
    "from src.data_processing import process_pdf_to_chunks"
   ]
  },
  {
   "cell_type": "code",
   "execution_count": 3,
   "id": "8d2bd10d",
   "metadata": {},
   "outputs": [],
   "source": [
    "DATA_PATH = \"/home/enzo/Desktop/riza/data/raw\"\n",
    "MANUAL_COMPLETO = os.path.join(DATA_PATH, \"galaxy_z_flip_7.pdf\")\n",
    "MANUAL_TESTE = os.path.join(DATA_PATH, \"galaxy_z_flip_7_teste.pdf\")"
   ]
  },
  {
   "cell_type": "code",
   "execution_count": 4,
   "id": "627bbb75",
   "metadata": {},
   "outputs": [
    {
     "name": "stderr",
     "output_type": "stream",
     "text": [
      "2025-09-29 22:23:19,027 - INFO - detected formats: [<InputFormat.PDF: 'pdf'>]\n",
      "2025-09-29 22:23:19,058 - INFO - Going to convert document batch...\n",
      "2025-09-29 22:23:19,059 - INFO - Initializing pipeline for StandardPdfPipeline with options hash e647edf348883bed75367b22fbe60347\n",
      "2025-09-29 22:23:19,069 - INFO - Loading plugin 'docling_defaults'\n",
      "2025-09-29 22:23:19,071 - INFO - Registered picture descriptions: ['vlm', 'api']\n",
      "2025-09-29 22:23:19,082 - INFO - Loading plugin 'docling_defaults'\n",
      "2025-09-29 22:23:19,086 - INFO - Registered ocr engines: ['easyocr', 'ocrmac', 'rapidocr', 'tesserocr', 'tesseract']\n",
      "2025-09-29 22:23:19,177 - INFO - Accelerator device: 'cpu'\n"
     ]
    },
    {
     "name": "stdout",
     "output_type": "stream",
     "text": [
      "Iniciando conversão do arquivo: /home/enzo/Desktop/riza/data/raw/galaxy_z_flip_7_teste.pdf\n"
     ]
    },
    {
     "name": "stderr",
     "output_type": "stream",
     "text": [
      "2025-09-29 22:23:20,906 - INFO - Accelerator device: 'cpu'\n",
      "2025-09-29 22:23:21,971 - INFO - Accelerator device: 'cpu'\n",
      "2025-09-29 22:23:22,467 - INFO - Processing document galaxy_z_flip_7_teste.pdf\n",
      "/home/enzo/Desktop/riza/venv/lib/python3.12/site-packages/torch/utils/data/dataloader.py:666: UserWarning: 'pin_memory' argument is set as true but no accelerator is found, then device pinned memory won't be used.\n",
      "  warnings.warn(warn_msg)\n",
      "/home/enzo/Desktop/riza/venv/lib/python3.12/site-packages/torch/utils/data/dataloader.py:666: UserWarning: 'pin_memory' argument is set as true but no accelerator is found, then device pinned memory won't be used.\n",
      "  warnings.warn(warn_msg)\n",
      "2025-09-29 22:24:27,592 - INFO - Finished converting document galaxy_z_flip_7_teste.pdf in 68.57 sec.\n"
     ]
    },
    {
     "name": "stdout",
     "output_type": "stream",
     "text": [
      "Conversão para Markdown concluída.\n",
      "Iniciando o processo de chunking híbrido...\n",
      "Chunking concluído. 106 chunks intermediários gerados.\n",
      "Iniciando limpeza e filtragem dos chunks...\n",
      "Limpeza concluída. 87 chunks finais restantes.\n"
     ]
    }
   ],
   "source": [
    "final_chunks = process_pdf_to_chunks(MANUAL_TESTE)"
   ]
  },
  {
   "cell_type": "code",
   "execution_count": 22,
   "id": "a05b5bab",
   "metadata": {},
   "outputs": [
    {
     "name": "stderr",
     "output_type": "stream",
     "text": [
      "2025-09-29 22:26:44,548 - INFO - Load pretrained SentenceTransformer: all-MiniLM-L6-v2\n"
     ]
    }
   ],
   "source": [
    "embedding_model = HuggingFaceEmbeddings(\n",
    "    model_name=\"all-MiniLM-L6-v2\",\n",
    "    model_kwargs={'device': 'cpu'},\n",
    ")"
   ]
  },
  {
   "cell_type": "code",
   "execution_count": null,
   "id": "5904a0df",
   "metadata": {},
   "outputs": [],
   "source": [
    "persist_directory = \"./chroma_db\""
   ]
  },
  {
   "cell_type": "code",
   "execution_count": 8,
   "id": "d2d5848b",
   "metadata": {},
   "outputs": [
    {
     "name": "stderr",
     "output_type": "stream",
     "text": [
      "2025-09-29 22:07:13,614 - INFO - Anonymized telemetry enabled. See                     https://docs.trychroma.com/telemetry for more information.\n"
     ]
    }
   ],
   "source": [
    "db = Chroma.from_documents(\n",
    "    documents=final_chunks, \n",
    "    embedding=embedding_model, \n",
    "    persist_directory=persist_directory\n",
    ")"
   ]
  },
  {
   "cell_type": "code",
   "execution_count": 25,
   "id": "07aad786",
   "metadata": {},
   "outputs": [
    {
     "data": {
      "text/plain": [
       "[Document(metadata={'Header 2': 'Wired charging'}, page_content=\"[Wired charging] Connect the USB cable to the USB power adapter and plug the cable into the device's multipurpose jack to charge the battery. After fully charging, disconnect the charger from the device. <!-- image -->\"),\n",
       " Document(metadata={'Header 2': 'Wireless charging'}, page_content=\"The device has a built-in wireless charging coil. You can charge the battery using a wireless charger (sold separately). Fold the device before charging the battery. Place the device's back on the centre of the wireless charger to charge the battery. After fully charging, disconnect the device from the wireless charger.\"),\n",
       " Document(metadata={'Header 2': 'Quick charging'}, page_content='Use a super fast charger or fast charger. To use the fast wireless charging feature, use a charger and components that support the feature. You can check the connection status of the charger by opening Settings and tapping Battery . <!-- image --> - If fast charging does not work, open Settings , tap Battery → Charging settings , and then check if the feature you want is turned on. Also, check if the USB cable and the USB power adapter are connected properly. - You can charge the battery more quickly while the device or its screen is turned off.')]"
      ]
     },
     "execution_count": 25,
     "metadata": {},
     "output_type": "execute_result"
    }
   ],
   "source": [
    "db.similarity_search(\"how can i charge the phone?\", k=3)"
   ]
  }
 ],
 "metadata": {
  "kernelspec": {
   "display_name": "venv",
   "language": "python",
   "name": "python3"
  },
  "language_info": {
   "codemirror_mode": {
    "name": "ipython",
    "version": 3
   },
   "file_extension": ".py",
   "mimetype": "text/x-python",
   "name": "python",
   "nbconvert_exporter": "python",
   "pygments_lexer": "ipython3",
   "version": "3.12.3"
  }
 },
 "nbformat": 4,
 "nbformat_minor": 5
}
