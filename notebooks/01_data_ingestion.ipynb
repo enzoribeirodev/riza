{
 "cells": [
  {
   "cell_type": "code",
   "execution_count": 143,
   "id": "1547dc25",
   "metadata": {},
   "outputs": [],
   "source": [
    "import re\n",
    "import os\n",
    "from docling.document_converter import DocumentConverter, PdfFormatOption\n",
    "from docling.datamodel.pipeline_options import PdfPipelineOptions\n",
    "from docling.datamodel.base_models import InputFormat\n",
    "from langchain.text_splitter import MarkdownHeaderTextSplitter, RecursiveCharacterTextSplitter\n",
    "from pprint import pprint"
   ]
  },
  {
   "cell_type": "code",
   "execution_count": 149,
   "id": "1ba4b641",
   "metadata": {},
   "outputs": [],
   "source": [
    "DATA_PATH = \"/home/enzo/Desktop/riza/data/raw\"\n",
    "MANUAL_COMPLETO = os.path.join(DATA_PATH, \"galaxy_z_flip_7.pdf\")\n",
    "MANUAL_TESTE = os.path.join(DATA_PATH, \"galaxy_z_flip_7_teste.pdf\")"
   ]
  },
  {
   "cell_type": "code",
   "execution_count": 156,
   "id": "8ec7ec5e",
   "metadata": {},
   "outputs": [
    {
     "name": "stderr",
     "output_type": "stream",
     "text": [
      "2025-09-29 12:36:04,689 - INFO - detected formats: [<InputFormat.PDF: 'pdf'>]\n",
      "2025-09-29 12:36:04,697 - INFO - Going to convert document batch...\n",
      "2025-09-29 12:36:04,698 - INFO - Initializing pipeline for StandardPdfPipeline with options hash e647edf348883bed75367b22fbe60347\n",
      "2025-09-29 12:36:04,699 - INFO - Accelerator device: 'cpu'\n",
      "2025-09-29 12:36:06,420 - INFO - Accelerator device: 'cpu'\n",
      "2025-09-29 12:36:07,667 - INFO - Accelerator device: 'cpu'\n",
      "2025-09-29 12:36:07,990 - INFO - Processing document galaxy_z_flip_7_teste.pdf\n",
      "/home/enzo/Desktop/riza/venv/lib/python3.12/site-packages/torch/utils/data/dataloader.py:666: UserWarning: 'pin_memory' argument is set as true but no accelerator is found, then device pinned memory won't be used.\n",
      "  warnings.warn(warn_msg)\n",
      "/home/enzo/Desktop/riza/venv/lib/python3.12/site-packages/torch/utils/data/dataloader.py:666: UserWarning: 'pin_memory' argument is set as true but no accelerator is found, then device pinned memory won't be used.\n",
      "  warnings.warn(warn_msg)\n",
      "2025-09-29 12:37:12,695 - INFO - Finished converting document galaxy_z_flip_7_teste.pdf in 68.01 sec.\n"
     ]
    }
   ],
   "source": [
    "pipeline_options = PdfPipelineOptions()\n",
    "\n",
    "\n",
    "converter = DocumentConverter(format_options={\n",
    "    InputFormat.PDF: PdfFormatOption(pipeline_options=pipeline_options)\n",
    "})\n",
    "\n",
    "result = converter.convert(MANUAL_TESTE)\n",
    "\n"
   ]
  },
  {
   "cell_type": "code",
   "execution_count": 163,
   "id": "73c2ca0e",
   "metadata": {},
   "outputs": [],
   "source": [
    "result_md = result.document.export_to_markdown()"
   ]
  },
  {
   "cell_type": "code",
   "execution_count": 186,
   "id": "57077cd0",
   "metadata": {},
   "outputs": [
    {
     "name": "stdout",
     "output_type": "stream",
     "text": [
      "('## USER GUIDE\\n'\n",
      " '\\n'\n",
      " 'SM-F766B SM-F761B\\n'\n",
      " '\\n'\n",
      " '## Table of Contents\\n'\n",
      " '\\n'\n",
      " '| Getting started   | Getting '\n",
      " 'started                                          | 87    | Multiwindow(Using '\n",
      " 'multiple apps at once)   |\\n'\n",
      " '|---------')\n"
     ]
    }
   ],
   "source": [
    "pprint(result_md[:200])"
   ]
  },
  {
   "cell_type": "code",
   "execution_count": 196,
   "id": "d2eaa0d6",
   "metadata": {},
   "outputs": [],
   "source": [
    "headers_to_split_on = [(\"##\", \"Header 2\"), (\"###\", \"Header 3\")]\n",
    "markdown_splitter = MarkdownHeaderTextSplitter(headers_to_split_on=headers_to_split_on)\n",
    "\n",
    "md_header_splits = markdown_splitter.split_text(result_md)"
   ]
  },
  {
   "cell_type": "code",
   "execution_count": 197,
   "id": "e37831e3",
   "metadata": {},
   "outputs": [],
   "source": [
    "text_splitter = RecursiveCharacterTextSplitter(chunk_size=600, chunk_overlap=100)\n",
    "\n",
    "intermediate_chunks = []\n",
    "for split in md_header_splits:\n",
    "    h2 = split.metadata.get('Header 2', '')\n",
    "    h3 = split.metadata.get('Header 3', '')\n",
    "   \n",
    "    prefix = \"\"\n",
    "    if h2:\n",
    "        if h2.lower() not in split.page_content[:100].lower():\n",
    "            prefix = f\"[{h2}]\"\n",
    "            if h3:\n",
    "                prefix += f\" [{h3}]\"\n",
    "            prefix += \"\\n\\n\"\n",
    "    \n",
    "\n",
    "    content_with_context = prefix + split.page_content\n",
    "\n",
    "    if len(split.page_content) > 600:\n",
    "        split.page_content = content_with_context\n",
    "        sub_chunks = text_splitter.split_documents([split])\n",
    "        intermediate_chunks.extend(sub_chunks)\n",
    "    else:\n",
    "        split.page_content = content_with_context\n",
    "        intermediate_chunks.append(split)"
   ]
  },
  {
   "cell_type": "code",
   "execution_count": 202,
   "id": "9528807d",
   "metadata": {},
   "outputs": [],
   "source": [
    "for chunk in intermediate_chunks:\n",
    "    content = chunk.page_content\n",
    "    \n",
    "    # Remove comentários HTML\n",
    "    content = re.sub(r'<!--.*?-->', '', content)\n",
    "    \n",
    "    # Remove /C seguido de dígitos\n",
    "    content = re.sub(r'/C\\d+', '', content)\n",
    "    \n",
    "    # Remove parênteses VAZIOS (mas mantém os com conteúdo)\n",
    "    content = re.sub(r'\\(\\s*\\)', '', content)\n",
    "    \n",
    "    # Normaliza espaços múltiplos\n",
    "    content = re.sub(r'\\s+', ' ', content)\n",
    "    \n",
    "    # Remove linhas vazias extras\n",
    "    content = re.sub(r'\\n\\s*\\n\\s*\\n+', '\\n\\n', content)\n",
    "    \n",
    "    chunk.page_content = content.strip()"
   ]
  },
  {
   "cell_type": "code",
   "execution_count": 203,
   "id": "ef4afdfc",
   "metadata": {},
   "outputs": [],
   "source": [
    "intermediate_chunks = [c for c in intermediate_chunks \n",
    "                      if len(c.page_content.strip()) > 50]"
   ]
  },
  {
   "cell_type": "code",
   "execution_count": 204,
   "id": "fa3b0eb1",
   "metadata": {},
   "outputs": [
    {
     "data": {
      "text/plain": [
       "[Document(metadata={'Header 2': 'Table of Contents'}, page_content='| Getting started | Getting started | 87 | Multiwindow(Using multiple apps at once) | |-------------------|----------------------------------------------------------|-------|--------------------------------------------| | 5 | Device layout and functions | 88 | Samsung Internet | | 12 | Charging the battery | 89 | SamsungWallet |'),\n",
       " Document(metadata={'Header 2': 'Table of Contents'}, page_content='| 18 | Nano-SIM card and eSIM | 92 | Samsung Health | | 21 | Turning the device on and off | 92 | Samsung Notes | | 22 | Initial setup | 93 | Samsung Members | | 22 | Using networks | 93 | Samsung Kids |'),\n",
       " Document(metadata={'Header 2': 'Table of Contents'}, page_content='| 22 | Samsung account | 94 | Samsung Global Goals | | 23 | Transferring data fromyourprevious device (Smart Switch) | 94 | Samsung TVPlus | | 24 | Understanding the screen | 94 | Samsung Find | | 34 | Notification panel | 94 | Samsung Shop |'),\n",
       " Document(metadata={'Header 2': 'Table of Contents'}, page_content='| 35 | Quick settings panel | 95 | GalaxyWearable | | 37 | Flex mode (Using the devicewhen | 95 | Calendar | | 39 | folded) Screen capture and screen record | 96 97 | Reminder Voice Recorder | | 41 | Entering text | 98 | MyFiles (Checking and managing the files) |'),\n",
       " Document(metadata={'Header 2': 'Table of Contents'}, page_content='| 43 | Extracting text | 98 | Clock | | | | 98 | Calculator | | | | 99 | Gaming Hub | | Apps andfeatures | Apps andfeatures | | GameBooster(Configuring your |'),\n",
       " Document(metadata={'Header 2': 'Table of Contents'}, page_content='| 44 | Installing oruninstalling apps | 99 | gaming environment) | | 45 | GalaxyAI | 101 | SmartThings | | 54 | Phone | 102 | Sharing content | | 58 | Contacts | 103 | Music Share |'),\n",
       " Document(metadata={'Header 2': 'Table of Contents'}, page_content='| 61 | Camera | 104 | SmartView(Mirroring on a TV | | 80 | Gallery | | screen) | | 85 | Bixby | 105 | Samsung DeX (SM-F766B) | | 86 | BixbyVision | 106 | Google apps |'),\n",
       " Document(metadata={'Header 2': 'Settings'}, page_content='| 107 | Introduction | Introduction | |-------|-----------------------|----------------------------------------------------------| | 107 | Sign in to yourGalaxy | Sign in to yourGalaxy | | 107 | Connections | Connections | | | 109 | Wi-Fi | | | 110 | Bluetooth |'),\n",
       " Document(metadata={'Header 2': 'Settings'}, page_content='| | 110 | Bluetooth | | | 112 | NFC and contactless payments | | | 113 | Data saver | | | 113 | Allowed networks forapps | | | 113 | Mobile Hotspot | | | 114 | More connection settings |'),\n",
       " Document(metadata={'Header 2': 'Settings'}, page_content='| | 114 | More connection settings | | 115 | Connected devices | Connected devices | | 117 | GalaxyAI | GalaxyAI | | 117 | Modes and Routines | Modes and Routines | | | 117 | Using modes | | | 118 | Using routines |'),\n",
       " Document(metadata={'Header 2': 'Settings'}, page_content='| | 118 | Using routines | | 119 | Sounds andvibration | Sounds andvibration | | | 120 | Sound qualityand effects | | | 121 | Separate app sound | | 121 | Notifications | Notifications | | 122 | Display | Display |'),\n",
       " Document(metadata={'Header 2': 'Settings'}, page_content='| 122 | Display | Display | | | 123 | Motion smoothness | | | 124 | Changing the screen mode or adjusting the display colour | | 125 | Battery | Battery | | 126 | Wallpaperand style | Wallpaperand style | | 126 | Themes | Themes |'),\n",
       " Document(metadata={'Header 2': 'Settings'}, page_content='| 126 | Themes | Themes | | 126 | Homescreen | Homescreen | - 126 Lock screen and AOD - 127 Extend Unlock - 127 Always On Display (Displaying information when the screen is turned off) - 128 Cover screen - 129 Security and privacy - 130 Face recognition - 132 Fingerprint recognition - 134 Secure Wi-Fi - 135 Secure Folder - 138 Samsung Pass - 139 Location - 140 Safety and emergency - 141 Accounts and backup 141 Samsung Cloud - 142 Google'),\n",
       " Document(metadata={'Header 2': 'Settings'}, page_content='- 140 Safety and emergency - 141 Accounts and backup 141 Samsung Cloud - 142 Google - 142 Advanced features - 144 Motions and gestures - 144 Video effects - 145 Galaxy Avatar - 146 Dual Messenger - 147 Digital Wellbeing and parental controls - 147 Device care - 148 Apps - 149 General management - 150 Accessibility - 150 Software update - 151 About phone'),\n",
       " Document(metadata={'Header 2': 'Usage notices'}, page_content='[Usage notices] - 152 Precautions for using the device - 155 Notes on package contents and accessories - 156 Maintaining water resistance - 157 Device overheating situations and solutions - 160 How to find the standby power consumption information for this product'),\n",
       " Document(metadata={'Header 2': 'Appendix'}, page_content='[Appendix] - 161 Accessibility - 176 Troubleshooting - 182 Removing the battery'),\n",
       " Document(metadata={'Header 2': 'Getting started'}, page_content='- Use the device in a place without magnetic interference for the device to operate normally. - Your device contains magnets. Keep it away from credit cards, implanted medical devices, and other devices that may be affected by magnets. In the case of medical devices, keep your device more than 15 cm apart. Stop using your device if you suspect any interference with your medical device and consult your physician or your medical device manufacturer. The location of the magnets is marked in grey in the device image.'),\n",
       " Document(metadata={'Header 2': 'Getting started'}, page_content='- If you have a medical implant in your heart, do not place your device in a pocket close to your implanted device, such as your chest or inner jacket pocket. - Keep a safe distance between your device and objects that are affected by magnets. Objects such as credit cards, passbooks, access cards, boarding passes, or parking passes may be damaged or disabled by the magnets in the device. - Do not fold the device toward the backside. The device will be damaged.'),\n",
       " Document(metadata={'Header 2': 'Getting started'}, page_content='- Do not fold the device toward the backside. The device will be damaged. - Fold the device before putting it in a bag or storing it. Be sure not to store the device unfolded as there is a chance that another object could scratch or puncture the screen or cause screen damage. - Do not press the screen or the front camera lens with a hard or sharp object, such as a pen or fingernail. Doing so may result in damage to device, such as scratches, dents, or screen damage. - Do not apply excessive pressure to the area where the screen folds. Doing so may result in screen damage.'),\n",
       " Document(metadata={'Header 2': 'Getting started'}, page_content='- Do not unfold the device by pushing the screen apart with your finger or other objects. Doing so may result in damage to the device, such as scratches or punctures on the screen. - The protector film attached to the main screen is a film that was designed exclusively for foldable devices. For the protection of the screen, it is recommended that you do not remove the film. If you remove the protector film, the screen may be damaged. - Do not apply other films or stickers not approved by Samsung. Doing so may result in screen damage.'),\n",
       " Document(metadata={'Header 2': 'Getting started'}, page_content='- Be careful as the coating of the screen protector film may peel off when performing repetitive touch actions, such as swiping on the screen. - When folding the device, do not place any objects, such as cards, coins, or keys, in between the screens, as doing so may cause damage. - Exposure to small particles, such as sand, may cause damage to the device, such as scratches or dents on the screen. - When using the speakers, such as when playing media files or using speakerphone, do not place the device close to your ears.'),\n",
       " Document(metadata={'Header 2': 'Getting started'}, page_content='- Be careful not to expose the camera lens to a strong light source, such as direct sunlight or a laser. If the camera lens is exposed to a strong light source, such as direct sunlight, the camera image sensor may be damaged. A damaged image sensor is irreparable and will cause dots or spots in pictures. - Do not use the device if any parts are broken or damaged, such as glass or acrylic body, as this may result in injury. Use only after it has been repaired by a Samsung Service Centre or an authorised service centre.'),\n",
       " Document(metadata={'Header 2': 'Getting started'}, page_content=\"- If dust or foreign materials enter the microphone, speaker, or receiver, or if these parts are covered, the device's sound may become quiet or certain features may not work. If you attempt to remove the dust or foreign materials with a sharp object, the device may be damaged and its appearance may be affected. - Be careful not to drop the device on the floor as it could damage the screen and result in black bruise-like spots or colourful dots on the screen. It could also damage the area where the screen folds by causing internal cracking.\"),\n",
       " Document(metadata={'Header 2': 'Getting started'}, page_content=\"- You may notice a crease at the centre of the main screen. This is a normal characteristic of the device. - Connectivity problems and battery drain may occur in the following situations: - -If you attach metallic stickers on the antenna area of the device - -If you attach a device cover made with metallic material to the device - -If you cover the device's antenna area with your hands or other objects while using certain features, such as calls or the mobile data connection\"),\n",
       " Document(metadata={'Header 2': 'Getting started'}, page_content='- If the device is folded and covered by part of your body, such as your hands, radio waves may be interfered with, resulting in Bluetooth, Wi-Fi, and other networks not having smooth connections. - If the air vent hole is covered by an accessory, such as a protective film or sticker, unwanted noises may occur during calls or media playback. (SM-F766B) - If the air vent hole or the area around the rear camera and the Side button is covered by an accessory, such as a protective film or sticker, unwanted noises may occur during calls or media playback. (SM-F761B)'),\n",
       " Document(metadata={'Header 2': 'Getting started'}, page_content='- Do not cover the proximity/light sensor area with accessories, such as stickers or a cover. Doing so may cause the sensor to malfunction. - The light may flicker at the top of the device during calls because of proximity sensor operation.'),\n",
       " Document(metadata={'Header 2': 'Hard buttons'}, page_content='| Button | Function | |---------------------------------|---------------------------------------------------------------------------------------------------------------------------------------------------------------| | Side button | • Whenthe device is off, press and hold to turn it on. • Press to turn on orlock the screen. • Press twice orpress and hold to open the app orfeatureyou set. |'),\n",
       " Document(metadata={'Header 2': 'Hard buttons'}, page_content='| Side button + VolumeDown button | • Press simultaneously to capture a screenshot. • Press and hold simultaneously to turn off the device. |'),\n",
       " Document(metadata={'Header 2': 'Setting the Side button'}, page_content='[Setting the Side button] Select an app or feature to launch by pressing the Side button twice or pressing and holding the Side button. Open Settings , tap Advanced features → Side button , and then select an option you want.'),\n",
       " Document(metadata={'Header 2': 'Soft buttons'}, page_content='When you turn on the screen, the soft buttons will appear at the bottom of the screen. Refer to Navigation bar (soft buttons) for more information.'),\n",
       " Document(metadata={'Header 2': 'Charging the battery'}, page_content='[Charging the battery] Charge the battery before using it for the first time or when it has been unused for extended periods.'),\n",
       " Document(metadata={'Header 2': 'Wired charging'}, page_content=\"[Wired charging] Connect the USB cable to the USB power adapter and plug the cable into the device's multipurpose jack to charge the battery. After fully charging, disconnect the charger from the device.\"),\n",
       " Document(metadata={'Header 2': 'Wireless charging'}, page_content=\"The device has a built-in wireless charging coil. You can charge the battery using a wireless charger (sold separately). Fold the device before charging the battery. Place the device's back on the centre of the wireless charger to charge the battery. After fully charging, disconnect the device from the wireless charger.\"),\n",
       " Document(metadata={'Header 2': 'Wireless charging'}, page_content='The estimated charging time will appear on the cover screen. The actual charging time assumes that the device is not in use, and it may vary depending on the charging conditions. Wireless charging may not work smoothly depending on the type of accessory or cover. For stable wireless charging, it is recommended to separate the cover or accessory from the device.'),\n",
       " Document(metadata={'Header 2': 'Getting started'}, page_content='[Getting started] Adjust the devices into the correct position as shown in the image to ensure that their connection is good. Otherwise, the device may not charge properly or may overheat.'),\n",
       " Document(metadata={'Header 2': 'Precautions for wireless charging'}, page_content='If you do not follow the precautions, the device may not charge properly or may overheat, or the device and any cards may be damaged. - Do not place the device on the wireless charger with a credit card or radio-frequency identification (RFID) card (such as a transportation card or a key card) placed between the back of the device and the device cover. - Do not place the device on the wireless charger when conductive materials, such as metal objects and magnets, are placed between the device and the wireless charger.'),\n",
       " Document(metadata={'Header 2': 'Precautions for wireless charging'}, page_content='- If you use the wireless charger in areas with weak network signals, you may lose network reception. - Use of Samsung-approved wireless chargers is recommended. Using other wireless chargers may result in improper charging. - If you use a wireless charge stand, your device may not be correctly mounted or may not charge properly. It is recommended to use a wireless charge pad.'),\n",
       " Document(metadata={'Header 2': 'Quick charging'}, page_content='Use a super fast charger or fast charger. To use the fast wireless charging feature, use a charger and components that support the feature. You can check the connection status of the charger by opening Settings and tapping Battery . - If fast charging does not work, open Settings , tap Battery → Charging settings , and then check if the feature you want is turned on. Also, check if the USB cable and the USB power adapter are connected properly. - You can charge the battery more quickly while the device or its screen is turned off.'),\n",
       " Document(metadata={'Header 2': 'Quick charging'}, page_content=\"- You can charge the battery more quickly while the device or its screen is turned off. - If the wireless charger has an internal fan, the fan may produce noise during fast wireless charging. Add a routine to set the fast wireless charging feature to turn off automatically at the preset time using Routines . When the fast wireless charging feature turns off, the charger's fan noise and the indicator light will be reduced.\"),\n",
       " Document(metadata={'Header 2': 'Wireless power sharing'}, page_content=\"[Wireless power sharing] You can charge another device with your phone's battery. You can still charge another device even while charging your phone. Depending on the type of accessories or cover being used, the Wireless power sharing feature may not work properly. It is recommended to remove any accessories and cover being used before using this feature. - 1 Open Settings , tap Battery → Wireless power sharing , and then tap the switch to turn it on. - 2 Fold your phone. - 3 Place the other device on your phone, with their backs facing.\"),\n",
       " Document(metadata={'Header 2': 'Getting started'}, page_content='- 4 When you are finished charging, disconnect the other device from your phone. - Do not use headphones while sharing power. Doing so may affect nearby devices. - Your phone includes magnets. The location of the wireless charging coil may differ depending on the device. Adjust the position of the devices correctly to ensure that their connection is good. Otherwise, the device may slide because of its slope or the magnetic force. - Some features are not available while sharing power.'),\n",
       " Document(metadata={'Header 2': 'Getting started'}, page_content='- Some features are not available while sharing power. - Only devices that support the wireless charging feature can be charged using this feature. Some devices may not be charged. To check out devices that support the Wireless power sharing feature, visit the Samsung website. - To charge properly, do not move or use either device while charging. - The power charged to the other device may be less than the amount shared to it by your phone.'),\n",
       " Document(metadata={'Header 2': 'Getting started'}, page_content=\"- The power charged to the other device may be less than the amount shared to it by your phone. - If you charge the other device while charging your phone, the charging speed may decrease or the device may not charge properly depending on the charger type. - The charging speed or efficiency may vary depending on the phone's condition or the surrounding environment.\"),\n",
       " Document(metadata={'Header 2': 'Setting the limit for power sharing'}, page_content='[Setting the limit for power sharing] You can set the device to stop power sharing when the remaining battery power drops below a certain level. Open Settings , tap Battery → Wireless power sharing → Battery limit , and then set the limit.'),\n",
       " Document(metadata={'Header 2': 'Reducing the battery consumption'}, page_content='[Reducing the battery consumption] Your device provides various options that help you conserve battery power. - Optimise the device using the device care feature. - When you are not using the device, turn off the screen by pressing the Side button. - Turn on power saving mode. - Close unnecessary apps. - Turn off the Bluetooth feature when not in use. - Turn off auto-syncing of apps that need to be synced. - Decrease the backlight time. - Decrease the screen brightness.'),\n",
       " Document(metadata={'Header 2': 'Battery charging tips and precautions'}, page_content='- Use only Samsung-approved battery specifically designed for your device. Incompatible batteries can cause serious injuries or damage to your device. - Use of Samsung-approved chargers and cables specifically designed for your device is recommended. Use of incompatible chargers or cables may result in injury or damage to the device. - Connecting the charger improperly may cause serious damage to the device. Any damage caused by misuse is not covered by the warranty.'),\n",
       " Document(metadata={'Header 2': 'Battery charging tips and precautions'}, page_content='- Use of the USB Type-C cable supplied with the device is recommended. Using a Micro USB cable may cause damage to the device. - If you charge the device while the multipurpose jack is wet, the device may be damaged. Thoroughly dry the multipurpose jack before charging the device.'),\n",
       " Document(metadata={'Header 2': 'Getting started'}, page_content='- To save energy, unplug the charger when not in use. The charger does not have a power switch, so you must unplug the charger from the electric socket when not in use to avoid wasting power. The charger should remain close to the electric socket and easily accessible while charging. - Use of a charger approved by Samsung that guarantees charging performance is recommended. - If the battery is completely discharged, the device cannot be turned on immediately when the charger is connected. Allow a depleted battery to charge for a few minutes before turning on the device.'),\n",
       " Document(metadata={'Header 2': 'Getting started'}, page_content='- If you use multiple apps at once, network apps, or apps that need a connection to another device, the battery will drain quickly. To avoid losing power during a data transfer, always use these apps after fully charging the battery. - Using a power source other than the charger, such as a computer, may result in a slower charging speed because of a lower electric current. - The device can be used while it is charging, but it may take longer to fully charge the battery.'),\n",
       " Document(metadata={'Header 2': 'Getting started'}, page_content=\"- The device can be used while it is charging, but it may take longer to fully charge the battery. - If the device receives an unstable power supply while charging, the screen may not function. If this happens, unplug the charger from the device. - While charging, the device and the charger may heat up. This is normal and should not affect the device's lifespan or performance. If the battery gets hotter than usual, the charger may stop charging. - If the device is not charging properly, take the device and the charger to a Samsung Service Centre or an authorised service centre.\"),\n",
       " Document(metadata={'Header 2': 'Nano-SIM card and eSIM'}, page_content='[Nano-SIM card and eSIM] Insert the nano-SIM card or download the eSIM provided by your carrier. Differing from a physical nano-SIM card, an eSIM is an embedded digital SIM. To have two phone numbers or carriers for a single device, download another eSIM. - eSIM may not be available depending on the region, carrier, or model. - Some services that require a network connection may not be available depending on the carrier. - Using both the nano-SIM card and the eSIM, or two eSIMs may result in slower data transfer speeds in some areas.'),\n",
       " Document(metadata={'Header 2': '▶ SM-F761B :'}, page_content='- 1 Turn the device so that the rear camera is facing upwards. - 2 Insert the ejection pin into the hole on the tray to loosen the tray. - 3 Pull out the tray gently from the tray slot. - 4 Place the nano-SIM card on the tray with the gold-coloured contacts facing downwards and gently press the nano-SIM card into the tray to secure it. 5 Insert the tray back into the tray slot. - • - Use only a nano-SIM card.'),\n",
       " Document(metadata={'Header 2': '▶ SM-F761B :'}, page_content='5 Insert the tray back into the tray slot. - • - Use only a nano-SIM card. - Use caution not to lose or let others use the nano-SIM card. Samsung is not responsible for any damages or inconveniences caused by lost or stolen cards. - Ensure that the ejection pin is perpendicular to the hole. Otherwise, the device may be damaged. - If the card is not fixed firmly into the tray, the nano-SIM card may leave or fall out of the tray. - If you insert the tray into your device while the tray is wet, your device may be damaged. Always make sure the tray is dry.'),\n",
       " Document(metadata={'Header 2': '▶ SM-F761B :'}, page_content='- Fully insert the tray into the tray slot to prevent liquid from entering your device.'),\n",
       " Document(metadata={'Header 2': 'Downloading an eSIM'}, page_content='[Downloading an eSIM] Open Settings , tap Connections → SIM manager → Add eSIM , and then follow the on-screen instructions to download the eSIM. If you have a QR code provided by your carrier, open Settings , tap Connections → SIM manager → Add eSIM → Scan QR code , and then scan the QR code.'),\n",
       " Document(metadata={'Header 2': 'SIM manager'}, page_content='Open Settings and tap Connections → SIM manager . - SIM cards : Activate the nano-SIM card to use and customise the nano-SIM card settings. - eSIMs : Download or activate the eSIM. - Preferred SIMs : Select to use specific SIM cards for some features, such as voice calls, when two cards are activated. - Data switching : Set the device to use another SIM card for data services if the preferred SIM card cannot connect to the network. You may incur additional charges when using this feature. - More SIM settings : Customise additional settings.'),\n",
       " Document(metadata={'Header 2': 'Turning the device on and off'}, page_content='[Turning the device on and off] - Follow all posted warnings and directions from authorised personnel in areas where the use of wireless devices is restricted, such as aeroplanes and hospitals.'),\n",
       " Document(metadata={'Header 2': 'Turning the device on'}, page_content='[Turning the device on] Press and hold the Side button for a few seconds to turn on the device.'),\n",
       " Document(metadata={'Header 2': 'Turning the device off'}, page_content='[Turning the device off] - 1 To turn off the device, press and hold the Side button and the Volume Down button simultaneously. Alternatively, open the quick settings panel and tap the Power off icon . . - 2 Tap Power off → Power off . To restart the device, tap Restart → Restart - If you want to set the device to turn off when you press and hold the Side button, tap Side button settings → Long press → Power off menu .'),\n",
       " Document(metadata={'Header 2': 'Forcing restart'}, page_content='[Forcing restart] If your device is frozen and unresponsive, press and hold the Side button and the Volume Down button simultaneously for more than 7 seconds to restart it.'),\n",
       " Document(metadata={'Header 2': 'Emergency calls and medical information'}, page_content='[Emergency calls and medical information] You can make an emergency call or check the medical information you saved. Press and hold the Side button and the Volume Down button simultaneously, and then tap Emergency call or Medical info . Alternatively, open the quick settings panel and tap the Power off icon → Emergency call or Medical info . To manage your medical information and emergency contacts, open Settings and tap Safety and emergency .'),\n",
       " Document(metadata={'Header 2': 'Initial setup'}, page_content='[Initial setup] When you turn on your device for the first time or after performing a data reset, follow the on-screen instructions to set up your device. - If you do not connect to a Wi-Fi network, you might not be able to set up some device features during the initial setup.'),\n",
       " Document(metadata={'Header 2': 'Using networks'}, page_content='[Using networks] You can use networks, such as a Wi-Fi, Bluetooth, NFC, or mobile network. Open Settings , tap Connections , and then tap the switch of the desired network to turn it on. For the mobile network, tap Data usage and tap the Mobile data switch to turn it on. When not using the network, tap the switch to turn it off. Some features may not be available depending on the model.'),\n",
       " Document(metadata={'Header 2': 'Samsung account'}, page_content=\"Using the Samsung account, you can use a variety of Samsung services that are provided through mobile devices, TVs, and the Samsung website. To check the list of services that can be used with your Samsung account, visit account.samsung.com. - 1 Open Settings and tap Sign in to your Galaxy . Alternatively, open Settings and tap Accounts and backup → Manage accounts → Add account → Samsung account . - 2 Sign in to your Samsung account. If you do not have a Samsung account, tap Forgot password or don't have an account? → Create account .\"),\n",
       " Document(metadata={'Header 2': 'Finding your ID and resetting your password'}, page_content=\"[Finding your ID and resetting your password] If you forget your Samsung account ID or password, tap Forgot password or don't have an account? → Forgot ID or Forgot password on the Samsung account sign-in screen. You can find your ID or reset your password after you enter the required information.\"),\n",
       " Document(metadata={'Header 2': 'Signing out of your Samsung account'}, page_content='[Signing out of your Samsung account] When you sign out of your Samsung account, your data, such as contacts or events, will also be removed from your device. - 1 Open Settings and tap Accounts and backup → Manage accounts . - 2 Tap Samsung account → My profile and tap Sign out at the bottom of the screen. - 3 Tap Sign out , enter your Samsung account password, and then tap OK .'),\n",
       " Document(metadata={'Header 2': '(Smart Switch)'}, page_content='Transfer data from your previous device with the USB cable or wirelessly. You can also transfer data from external storage or computer. Open Settings , tap Accounts and backup → Transfer data for device setup , and then follow the on-screen instructions to transfer data. Visit www.samsung.com/smartswitch for details and limitations. - To transfer data using external storage, tap the External storage icon . - To check the data that has been transferred, tap the More options icon → Transfer result . - This feature may not be supported on some devices or computers.'),\n",
       " Document(metadata={'Header 2': '(Smart Switch)'}, page_content='- This feature may not be supported on some devices or computers. - Samsung takes copyright seriously. Only transfer content that you own or have the right to transfer.'),\n",
       " Document(metadata={'Header 2': 'Cover screen and main screen'}, page_content='[Cover screen and main screen] You can use the cover screen with the device folded or the main screen with the device unfolded. When you fully fold the device, you can check information, such as the clock or notifications, on the cover screen. - This image may differ depending on the model. Cover screen Main screen'),\n",
       " Document(metadata={'Header 2': 'Using the cover screen'}, page_content='[Using the cover screen] You can check the time and date on the cover screen without unfolding the device. If the cover screen is off, press the Side button or double tap the screen. If you want to change the wallpaper, touch and hold the screen, swipe upwards or downwards on the wallpaper list, and then select the one you want. To edit the cover screen, open Settings and tap Cover screen .'),\n",
       " Document(metadata={'Header 2': 'Checking notifications'}, page_content='[Checking notifications] When you receive new notifications, they will appear on the cover screen. You can reply to messages or return missed calls from the cover screen without unfolding the device. To check a notification, swipe to the right on the cover screen and select one. Select an option from the bottom of the screen to send a reply or return a call. To check the notification details, unfold the device. If the screen is locked, you must unlock it to check the notification details.'),\n",
       " Document(metadata={'Header 2': 'Using widgets'}, page_content='[Using widgets] With the widgets on the cover screen, you can use certain apps and useful features. Swipe to the left on the cover screen to use the widgets. Alternatively, pinch your fingers together on the screen and select the widget you want. To edit the widget screen, open Settings and tap Cover screen → Widgets .'),\n",
       " Document(metadata={'Header 2': 'Using quick settings'}, page_content='[Using quick settings] Use quick settings to turn the Wi-Fi feature on or off, change the sound mode, and more. Drag downwards from the top of the screen. If the screen is locked, you must unlock it before using some features.'),\n",
       " Document(metadata={'Header 2': 'Taking pictures or recording videos'}, page_content='You can take selfies or record videos using the rear camera even while the device is folded. Refer to Using the cover screen for more information. - 1 On the cover screen, drag the Camera icon outside the large circle. Alternatively, press the Side button twice to open the Camera app. - 2 To change the shooting mode, swipe to the left or right on the preview screen. - To use zoom features, spread two fingers apart or pinch on the screen. - To use shooting options, tap the Quick controls icon .'),\n",
       " Document(metadata={'Header 2': 'Taking pictures or recording videos'}, page_content='- To use shooting options, tap the Quick controls icon . - 3 Tap the screen to take a selfie or record a video. If you want to use the camera button, tap the Quick controls icon → the Touch screen shooting method icon to add the button to the screen. - Alternatively, show your palm to the camera or press the Volume button to take a selfie or record a video.'),\n",
       " Document(metadata={'Header 2': 'Answering or rejecting calls'}, page_content='[Answering or rejecting calls] When a call comes in, drag the Answer icon to the right to answer the call. To reject the call, drag the Decline icon to the left. To send a message when rejecting an incoming call, drag upwards from the bottom of the screen and select a message to send. When you answer a call from the cover screen, the call will automatically go to speakerphone.'),\n",
       " Document(metadata={'Header 2': 'Controlling the screen'}, page_content='- Tapping: Tap the screen. - Touching and holding: Touch and hold the screen for approximately 2 seconds. - Dragging: Touch and hold an item and drag it to the target position. - Double tapping: Double tap the screen. - Swiping: Swipe upwards, downwards, to the left, or to the right. - Spreading and pinching: Spread two fingers apart or pinch on the screen. - Do not allow the screen to come into contact with other electrical devices. Electrostatic discharges can cause the screen to malfunction.'),\n",
       " Document(metadata={'Header 2': 'Controlling the screen'}, page_content='- To avoid damaging the screen, do not tap it with anything sharp or apply excessive pressure to it with your fingertips or other object. - It is recommended not to use fixed graphics on part or all of the screen for extended periods. Doing so may result in afterimages (screen burn-in) or ghosting. - The device may not recognise touch inputs close to the edges of the screen, which are outside of the touch input area.'),\n",
       " Document(metadata={'Header 2': 'Navigation bar (soft buttons)'}, page_content='When you turn on the screen, the soft buttons will appear on the navigation bar at the bottom of the screen. The soft buttons are set to the Recents button, Home button, and Back button by default. The functions of the buttons can change according to the app currently being used or usage environment. | Button | Function | |-------------|-----------------------------------------------------------------------------------------------------------------------------|'),\n",
       " Document(metadata={'Header 2': 'Navigation bar (soft buttons)'}, page_content='| Recents | Tap to open the list of recent apps. | | Home | • Tap to return to the Homescreen. • Touch and hold to launch Circle to Search . Tap ordrawa circle around an image ortext. | | Back | Tap to return to the previous screen. |'),\n",
       " Document(metadata={'Header 2': 'Hiding the navigation bar'}, page_content='Check files or use apps on a wider screen by hiding the navigation bar. Open Settings and tap Display → Navigation bar → Swipe gestures .'),\n",
       " Document(metadata={'Header 2': 'Home screen and Apps screen'}, page_content=\"[Home screen and Apps screen] The Home screen is the starting point for accessing all of the device's features. It displays widgets, shortcuts to apps, and more. The Apps screen displays icons for all apps, including newly installed apps.\"),\n",
       " Document(metadata={'Header 2': 'Switching between Home and Apps screens'}, page_content='[Switching between Home and Apps screens] On the Home screen, swipe upwards to open the Apps screen. To return to the Home screen, swipe upwards or downwards on the Apps screen. Alternatively, tap the Home button or the Back button . If you add the Apps button on the Home screen, you can open the Apps screen by tapping the button. On the Home screen, touch and hold an empty area, tap Settings , and then tap the Show Apps screen button on Home screen switch to turn it on. The Apps button will be added at the bottom of the Home screen.'),\n",
       " Document(metadata={'Header 2': 'Editing the Home screen'}, page_content=\"On the Home screen, touch and hold an empty area, or pinch your fingers together to access the editing options. You can set the wallpaper, add widgets, and more. - Wallpaper and style : Change the wallpaper settings for the Home screen and the locked screen. - Themes : Change the device's theme. Visual elements of interface, such as colours, icons, and wallpapers, will change depending on the selected theme.\"),\n",
       " Document(metadata={'Header 2': 'Editing the Home screen'}, page_content='- Widgets : Widgets are small apps that launch specific app features to provide information and convenient access on your Home screen. Select a widget and tap Add . The widget will be added on the Home screen. - Settings : Configure settings for the Home screen, such as the screen layout. You can also add, delete, or rearrange Home screen panels. - Adding panels: Swipe to the left, and then tap the Add page icon . - Moving panels: Drag a panel preview to a new location. - Deleting panels: Tap the Remove icon on the panel.'),\n",
       " Document(metadata={'Header 2': 'Displaying all apps on the Home screen'}, page_content='[Displaying all apps on the Home screen] Without using a separate Apps screen, you can set the device to display all apps on the Home screen. On the Home screen, touch and hold an empty area, and then tap Settings → Home screen layout → Home screen only → Apply .'),\n",
       " Document(metadata={'Header 2': 'Launching Finder'}, page_content='[Launching Finder] Search for content on the device. - 1 On the Apps screen, tap Search . - 2 Enter a keyword. Apps and content on your device will be searched. If you tap the Search icon on the keyboard, you can search for more content.')]"
      ]
     },
     "execution_count": 204,
     "metadata": {},
     "output_type": "execute_result"
    }
   ],
   "source": [
    "intermediate_chunks"
   ]
  },
  {
   "cell_type": "code",
   "execution_count": null,
   "id": "1637d4c0",
   "metadata": {},
   "outputs": [],
   "source": []
  },
  {
   "cell_type": "code",
   "execution_count": null,
   "id": "8b5d649c",
   "metadata": {},
   "outputs": [],
   "source": []
  },
  {
   "cell_type": "code",
   "execution_count": null,
   "id": "782c0b3c",
   "metadata": {},
   "outputs": [],
   "source": []
  }
 ],
 "metadata": {
  "kernelspec": {
   "display_name": "venv",
   "language": "python",
   "name": "python3"
  },
  "language_info": {
   "codemirror_mode": {
    "name": "ipython",
    "version": 3
   },
   "file_extension": ".py",
   "mimetype": "text/x-python",
   "name": "python",
   "nbconvert_exporter": "python",
   "pygments_lexer": "ipython3",
   "version": "3.12.3"
  }
 },
 "nbformat": 4,
 "nbformat_minor": 5
}
